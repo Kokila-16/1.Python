{
 "cells": [
  {
   "cell_type": "code",
   "execution_count": 1,
   "id": "0e2456c5-4258-402f-9647-630b2aeba33f",
   "metadata": {},
   "outputs": [
    {
     "name": "stdout",
     "output_type": "stream",
     "text": [
      "Welcome to baby step assignment\n"
     ]
    }
   ],
   "source": [
    "print(\"Welcome to baby step assignment\")"
   ]
  },
  {
   "cell_type": "code",
   "execution_count": 4,
   "id": "e0fdf463-649d-4c49-a0c4-6b2a538d2705",
   "metadata": {},
   "outputs": [
    {
     "name": "stdin",
     "output_type": "stream",
     "text": [
      "Enter the Num1 10\n",
      "Enter the Num2 30\n"
     ]
    },
    {
     "name": "stdout",
     "output_type": "stream",
     "text": [
      "The added value is... 40\n"
     ]
    }
   ],
   "source": [
    "Num1=int(input(\"Enter the Num1\"))\n",
    "Num2=int(input(\"Enter the Num2\"))\n",
    "add=Num1+Num2\n",
    "print(\"The added value is...\",add)"
   ]
  },
  {
   "cell_type": "code",
   "execution_count": 2,
   "id": "57d013a0-fb19-4b14-b0c8-53284343d709",
   "metadata": {},
   "outputs": [
    {
     "name": "stdin",
     "output_type": "stream",
     "text": [
      "Enter the weight in kg 60\n",
      "Enter the Height in m 1.68\n"
     ]
    },
    {
     "name": "stdout",
     "output_type": "stream",
     "text": [
      "Very overweight\n"
     ]
    }
   ],
   "source": [
    "Weight=float(input(\"Enter the weight in kg\"))\n",
    "Height=float(input(\"Enter the Height in m\"))\n",
    "BMI=Weight/Height*Height\n",
    "if(BMI>34):\n",
    "    print(\"Very overweight\")\n",
    "else:\n",
    "    print(\"Under weight\")"
   ]
  },
  {
   "cell_type": "code",
   "execution_count": null,
   "id": "8ec7a1ad-8c6e-4775-bc3a-d8f5eaa5de98",
   "metadata": {},
   "outputs": [],
   "source": []
  }
 ],
 "metadata": {
  "kernelspec": {
   "display_name": "Python [conda env:base] *",
   "language": "python",
   "name": "conda-base-py"
  },
  "language_info": {
   "codemirror_mode": {
    "name": "ipython",
    "version": 3
   },
   "file_extension": ".py",
   "mimetype": "text/x-python",
   "name": "python",
   "nbconvert_exporter": "python",
   "pygments_lexer": "ipython3",
   "version": "3.12.7"
  }
 },
 "nbformat": 4,
 "nbformat_minor": 5
}
